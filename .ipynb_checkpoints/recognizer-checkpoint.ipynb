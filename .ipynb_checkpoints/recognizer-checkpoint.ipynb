{
 "cells": [
  {
   "cell_type": "code",
   "execution_count": 2,
   "id": "1240883a-33c0-4ba1-851b-e49c62255d31",
   "metadata": {},
   "outputs": [],
   "source": [
    "import tensorflow as tf\n",
    "from tensorflow import keras\n",
    "from tensorflow.keras import layers\n",
    "from tensorflow.keras.datasets import mnist\n",
    "import os"
   ]
  },
  {
   "cell_type": "code",
   "execution_count": null,
   "id": "5384c6c0-69ba-4b05-b588-228d05e5f7d2",
   "metadata": {},
   "outputs": [],
   "source": [
    "(train_images, train_labels), (test_images, test_labels) = mnist.load_data()"
   ]
  },
  {
   "cell_type": "code",
   "execution_count": null,
   "id": "12de620a-c486-432b-994b-3809e3d5397b",
   "metadata": {},
   "outputs": [],
   "source": [
    "train_images = train_images.reshape(60000, 784).astype(\"float32\")/255\n",
    "test_images = test_images.reshape(10000, 784).astype(\"float32\")/255"
   ]
  },
  {
   "cell_type": "code",
   "execution_count": null,
   "id": "e7a16287-17a5-457e-9da8-b3afaf6a091e",
   "metadata": {},
   "outputs": [],
   "source": [
    "inputs = keras.Input(shape=(784,))\n",
    "layer_1 = layers.Dense(128, activation=\"relu\")(inputs)\n",
    "layer_2 = layers.Dropout(0.2)(layer_1)\n",
    "layer_3 = layers.Dense(128, activation=\"relu\")(layer_2)\n",
    "outputs = layers.Dense(10, activation=\"softmax\")(layer_3)"
   ]
  },
  {
   "cell_type": "code",
   "execution_count": null,
   "id": "de1f80c5-ca19-4fc5-b637-472575c43e55",
   "metadata": {},
   "outputs": [],
   "source": [
    "model = keras.Model(inputs=inputs, outputs=outputs)"
   ]
  },
  {
   "cell_type": "code",
   "execution_count": null,
   "id": "ef9c5c53-92d7-4861-9335-83ed55aa5ecf",
   "metadata": {},
   "outputs": [],
   "source": [
    "model.compile(optimizer=\"rmsprop\", loss=\"sparse_categorical_crossentropy\", metrics=[\"accuracy\"])"
   ]
  },
  {
   "cell_type": "code",
   "execution_count": null,
   "id": "84230569-e4b1-4d67-a9fb-231921461730",
   "metadata": {},
   "outputs": [],
   "source": [
    "model.fit(train_images, train_labels, batch_size=128, epochs=5)"
   ]
  },
  {
   "cell_type": "code",
   "execution_count": null,
   "id": "4df03f78-8200-4a44-8d38-60abe01e6e01",
   "metadata": {},
   "outputs": [],
   "source": [
    "model.evaluate(test_images, test_labels)"
   ]
  },
  {
   "cell_type": "code",
   "execution_count": null,
   "id": "a0757a7f-3489-441f-a59c-aed7b14a723a",
   "metadata": {},
   "outputs": [],
   "source": [
    "model_version = \"0001\""
   ]
  },
  {
   "cell_type": "code",
   "execution_count": null,
   "id": "40b71e49-4635-4db6-8474-61358a38cbae",
   "metadata": {},
   "outputs": [],
   "source": [
    "model_name = \"digits\""
   ]
  },
  {
   "cell_type": "code",
   "execution_count": null,
   "id": "945c9089-2055-4610-bd93-b2b215a9510a",
   "metadata": {},
   "outputs": [],
   "source": [
    "model_path = os.path.join(model_name, model_version)"
   ]
  },
  {
   "cell_type": "markdown",
   "id": "496c0635-d26a-418e-9c40-77484a09e023",
   "metadata": {},
   "source": [
    "model_path"
   ]
  },
  {
   "cell_type": "code",
   "execution_count": null,
   "id": "36c9c645-b226-480d-9730-41c7a237b1c4",
   "metadata": {},
   "outputs": [],
   "source": [
    "print(model_path)"
   ]
  },
  {
   "cell_type": "code",
   "execution_count": null,
   "id": "9907acb6-95cd-4aa3-a232-cedf4ac88b67",
   "metadata": {},
   "outputs": [],
   "source": [
    "model.save(model_path)"
   ]
  },
  {
   "cell_type": "code",
   "execution_count": null,
   "id": "13a6a6a0-1101-4c54-a4b0-cefa80d54725",
   "metadata": {},
   "outputs": [],
   "source": [
    "model = keras.models.load_model(model_path)"
   ]
  },
  {
   "cell_type": "code",
   "execution_count": null,
   "id": "49962322-09e1-4d3f-a20d-7144d8f8b89a",
   "metadata": {},
   "outputs": [],
   "source": [
    "import matplotlib.pyplot as plt"
   ]
  },
  {
   "cell_type": "code",
   "execution_count": null,
   "id": "f4662b17-b154-4081-8c59-4d307f4aaae9",
   "metadata": {},
   "outputs": [],
   "source": [
    "plt.imshow(test_images[0].reshape([784]))"
   ]
  },
  {
   "cell_type": "code",
   "execution_count": null,
   "id": "0c7e6bb5-48fb-4d6e-85b9-cec6c922df45",
   "metadata": {},
   "outputs": [],
   "source": [
    "model.predict(test_images[0].reshape([784, 1]))"
   ]
  },
  {
   "cell_type": "code",
   "execution_count": null,
   "id": "1cd7ca87-7ef8-4d0d-8d04-5870f19d4cc5",
   "metadata": {},
   "outputs": [],
   "source": [
    "model.predict(test_images[0].reshape([1, 784])).argmax()"
   ]
  },
  {
   "cell_type": "code",
   "execution_count": null,
   "id": "1ba31456-d338-44f4-962b-35aab8a5d73a",
   "metadata": {},
   "outputs": [],
   "source": [
    "model = keras.models.load_model(model_path)"
   ]
  },
  {
   "cell_type": "code",
   "execution_count": null,
   "id": "e1458d63-8ccc-4e7f-891a-1f88d3774ac7",
   "metadata": {},
   "outputs": [],
   "source": [
    "model.predict(test_images[1].reshape([1, 784])).argmax()"
   ]
  },
  {
   "cell_type": "code",
   "execution_count": null,
   "id": "06454620-aaf0-4cf4-83ed-0a573ae5f7c0",
   "metadata": {},
   "outputs": [],
   "source": [
    "plt.imshow(test_images[1].reshape([28, 28]))"
   ]
  },
  {
   "cell_type": "code",
   "execution_count": 3,
   "id": "55716329-7eb1-42fe-af29-809582266222",
   "metadata": {},
   "outputs": [
    {
     "ename": "AttributeError",
     "evalue": "module 'tensorflow.keras.preprocessing' has no attribute 'load_image'",
     "output_type": "error",
     "traceback": [
      "\u001b[0;31m---------------------------------------------------------------------------\u001b[0m",
      "\u001b[0;31mAttributeError\u001b[0m                            Traceback (most recent call last)",
      "\u001b[0;32m/var/folders/gn/t94ndfqs7js134qsvnvsznsw0000gn/T/ipykernel_4378/2585530637.py\u001b[0m in \u001b[0;36m<module>\u001b[0;34m\u001b[0m\n\u001b[0;32m----> 1\u001b[0;31m \u001b[0mimage\u001b[0m \u001b[0;34m=\u001b[0m \u001b[0mtf\u001b[0m\u001b[0;34m.\u001b[0m\u001b[0mkeras\u001b[0m\u001b[0;34m.\u001b[0m\u001b[0mpreprocessing\u001b[0m\u001b[0;34m.\u001b[0m\u001b[0mload_image\u001b[0m\u001b[0;34m(\u001b[0m\u001b[0;34m\"img.png\"\u001b[0m\u001b[0;34m,\u001b[0m \u001b[0mcolor_mode\u001b[0m\u001b[0;34m=\u001b[0m\u001b[0;34m\"grayscale\"\u001b[0m\u001b[0;34m,\u001b[0m \u001b[0mtarget_size\u001b[0m\u001b[0;34m=\u001b[0m\u001b[0;34m(\u001b[0m\u001b[0;36m28\u001b[0m\u001b[0;34m,\u001b[0m \u001b[0;36m28\u001b[0m\u001b[0;34m)\u001b[0m\u001b[0;34m)\u001b[0m\u001b[0;34m\u001b[0m\u001b[0;34m\u001b[0m\u001b[0m\n\u001b[0m",
      "\u001b[0;31mAttributeError\u001b[0m: module 'tensorflow.keras.preprocessing' has no attribute 'load_image'"
     ]
    }
   ],
   "source": [
    "image = tf.keras.preprocessing.images.load_image(\"img.png\", color_mode=\"grayscale\", target_size=(28, 28))"
   ]
  },
  {
   "cell_type": "code",
   "execution_count": null,
   "id": "012c48cd-46b2-452c-93ec-4859f3e820f1",
   "metadata": {},
   "outputs": [],
   "source": [
    "image"
   ]
  },
  {
   "cell_type": "code",
   "execution_count": null,
   "id": "28573e21-2de0-4f21-b9eb-c5c6a87b4bc4",
   "metadata": {},
   "outputs": [],
   "source": []
  }
 ],
 "metadata": {
  "kernelspec": {
   "display_name": "Python 3 (ipykernel)",
   "language": "python",
   "name": "python3"
  },
  "language_info": {
   "codemirror_mode": {
    "name": "ipython",
    "version": 3
   },
   "file_extension": ".py",
   "mimetype": "text/x-python",
   "name": "python",
   "nbconvert_exporter": "python",
   "pygments_lexer": "ipython3",
   "version": "3.8.12"
  }
 },
 "nbformat": 4,
 "nbformat_minor": 5
}
