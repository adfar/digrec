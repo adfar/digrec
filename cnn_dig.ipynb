{
 "cells": [
  {
   "cell_type": "code",
   "execution_count": 2,
   "id": "5a63d7f5-6f96-4736-ab45-5eabaa7c1dc8",
   "metadata": {},
   "outputs": [],
   "source": [
    "from tensorflow import keras\n",
    "from tensorflow.keras import layers\n",
    "import matplotlib.pyplot as plt\n",
    "from tensorflow.keras.datasets import mnist\n",
    "import tensorflow as tf\n",
    "import numpy as np\n",
    "import os"
   ]
  },
  {
   "cell_type": "code",
   "execution_count": 3,
   "id": "a8148171-020b-4415-bcdc-f4f29ca08564",
   "metadata": {},
   "outputs": [],
   "source": [
    "inputs = keras.Input(shape=(28, 28, 1))"
   ]
  },
  {
   "cell_type": "code",
   "execution_count": 5,
   "id": "a674c116-688e-4ab1-843a-c9957b82c2ff",
   "metadata": {},
   "outputs": [],
   "source": [
    "augmentation = keras.Sequential([\n",
    "    layers.RandomRotation(0.1),\n",
    "    layers.RandomZoom(0.2)\n",
    "])\n",
    "x = augmentation(inputs)"
   ]
  },
  {
   "cell_type": "code",
   "execution_count": 6,
   "id": "fc2cfc07-3318-44ed-ae59-ad1d9e65ea3b",
   "metadata": {
    "tags": []
   },
   "outputs": [],
   "source": [
    "x = layers.Conv2D(filters=32, kernel_size=3, activation=\"relu\")(x)\n",
    "x = layers.MaxPooling2D(pool_size=2)(x)"
   ]
  },
  {
   "cell_type": "code",
   "execution_count": 7,
   "id": "39f0313f-9e13-403c-a2e3-9dec082f2d9f",
   "metadata": {},
   "outputs": [],
   "source": [
    "x = layers.Conv2D(filters=64, kernel_size=3, activation=\"relu\")(x)"
   ]
  },
  {
   "cell_type": "code",
   "execution_count": 8,
   "id": "0843de3c-f1c6-4c88-9f88-1ef198167262",
   "metadata": {},
   "outputs": [],
   "source": [
    "x = layers.MaxPooling2D(pool_size=2)(x)"
   ]
  },
  {
   "cell_type": "code",
   "execution_count": 9,
   "id": "a61be084-90b4-4c82-b45c-f137a83038a5",
   "metadata": {},
   "outputs": [],
   "source": [
    "x = layers.Conv2D(filters=128, kernel_size=3, activation=\"relu\")(x)"
   ]
  },
  {
   "cell_type": "code",
   "execution_count": 10,
   "id": "4a491d60-c5e9-4cd1-8d79-881240cbffeb",
   "metadata": {},
   "outputs": [],
   "source": [
    "x = layers.Flatten()(x)"
   ]
  },
  {
   "cell_type": "code",
   "execution_count": 11,
   "id": "1a1fa35f-2a1d-4748-a331-7b9f1d13f598",
   "metadata": {},
   "outputs": [],
   "source": [
    "outputs = layers.Dense(10, activation=\"softmax\")(x)"
   ]
  },
  {
   "cell_type": "code",
   "execution_count": 12,
   "id": "d0102ba9-9ce0-46f7-8e33-a6a97ad7ea48",
   "metadata": {},
   "outputs": [],
   "source": [
    "model = keras.Model(inputs=inputs, outputs=outputs)"
   ]
  },
  {
   "cell_type": "code",
   "execution_count": 13,
   "id": "867b54fc-0988-4266-998a-14d42faf732a",
   "metadata": {},
   "outputs": [],
   "source": [
    "(train_images, train_labels), (test_images, test_labels) = mnist.load_data()"
   ]
  },
  {
   "cell_type": "code",
   "execution_count": 14,
   "id": "a89d5e59-87e2-4f06-9102-d7a6fb75e18b",
   "metadata": {},
   "outputs": [],
   "source": [
    "train_images = train_images.reshape((60000, 28, 28, 1)).astype(\"float32\") / 255"
   ]
  },
  {
   "cell_type": "code",
   "execution_count": 15,
   "id": "b6292f11-da2e-4d23-a174-573f5a823259",
   "metadata": {},
   "outputs": [],
   "source": [
    "test_images = test_images.reshape((10000, 28, 28, 1)).astype(\"float32\") / 255"
   ]
  },
  {
   "cell_type": "code",
   "execution_count": 16,
   "id": "363c2f6c-32bb-41da-a6d4-7ec777958915",
   "metadata": {},
   "outputs": [],
   "source": [
    "model.compile(optimizer=\"rmsprop\", loss=\"sparse_categorical_crossentropy\", metrics=[\"accuracy\"])"
   ]
  },
  {
   "cell_type": "code",
   "execution_count": 17,
   "id": "dfcaaf0e-091c-4720-87c8-ae022c3456ea",
   "metadata": {
    "tags": []
   },
   "outputs": [
    {
     "name": "stdout",
     "output_type": "stream",
     "text": [
      "Epoch 1/5\n",
      "938/938 [==============================] - 22s 23ms/step - loss: 0.2809 - accuracy: 0.9101\n",
      "Epoch 2/5\n",
      "938/938 [==============================] - 22s 24ms/step - loss: 0.0927 - accuracy: 0.9707\n",
      "Epoch 3/5\n",
      "938/938 [==============================] - 21s 23ms/step - loss: 0.0692 - accuracy: 0.9775\n",
      "Epoch 4/5\n",
      "938/938 [==============================] - 21s 22ms/step - loss: 0.0601 - accuracy: 0.9816\n",
      "Epoch 5/5\n",
      "938/938 [==============================] - 20s 21ms/step - loss: 0.0529 - accuracy: 0.9838\n"
     ]
    },
    {
     "data": {
      "text/plain": [
       "<keras.callbacks.History at 0x7fb0352ce400>"
      ]
     },
     "execution_count": 17,
     "metadata": {},
     "output_type": "execute_result"
    }
   ],
   "source": [
    "model.fit(train_images, train_labels, epochs=5, batch_size=64)"
   ]
  },
  {
   "cell_type": "code",
   "execution_count": 18,
   "id": "02f24177-7346-42b4-b0e8-fdc703ebe63b",
   "metadata": {
    "tags": []
   },
   "outputs": [
    {
     "name": "stdout",
     "output_type": "stream",
     "text": [
      "313/313 [==============================] - 1s 2ms/step - loss: 0.0314 - accuracy: 0.9903\n"
     ]
    },
    {
     "data": {
      "text/plain": [
       "[0.03136871010065079, 0.9902999997138977]"
      ]
     },
     "execution_count": 18,
     "metadata": {},
     "output_type": "execute_result"
    }
   ],
   "source": [
    "model.evaluate(test_images, test_labels)"
   ]
  },
  {
   "cell_type": "code",
   "execution_count": 59,
   "id": "ca567f3e-06d9-4b5c-9760-0c71f0e95621",
   "metadata": {},
   "outputs": [],
   "source": [
    "image = tf.keras.preprocessing.image.load_img(\"img.png\", color_mode=\"grayscale\", target_size=(28, 28), interpolation=\"bilinear\")"
   ]
  },
  {
   "cell_type": "code",
   "execution_count": 60,
   "id": "599afe07-e8f4-496e-899a-1d52d9249cf3",
   "metadata": {},
   "outputs": [],
   "source": [
    "image = np.array(image)"
   ]
  },
  {
   "cell_type": "code",
   "execution_count": 61,
   "id": "a50160eb-4a21-4021-8e47-ae704a870928",
   "metadata": {},
   "outputs": [
    {
     "data": {
      "text/plain": [
       "<matplotlib.image.AxesImage at 0x7fb007b22370>"
      ]
     },
     "execution_count": 61,
     "metadata": {},
     "output_type": "execute_result"
    },
    {
     "data": {
      "image/png": "[encoded data removed]",
      "text/plain": [
       "<Figure size 432x288 with 1 Axes>"
      ]
     },
     "metadata": {
      "needs_background": "light"
     },
     "output_type": "display_data"
    }
   ],
   "source": [
    "plt.imshow(image)"
   ]
  },
  {
   "cell_type": "code",
   "execution_count": 51,
   "id": "e6e477e0-e9be-4b64-8b42-492a3216d9f5",
   "metadata": {},
   "outputs": [],
   "source": [
    "image = image.reshape([1, 28, 28])"
   ]
  },
  {
   "cell_type": "code",
   "execution_count": 52,
   "id": "f8a11e2d-f26b-461d-9d5e-de8ed339c23a",
   "metadata": {},
   "outputs": [
    {
     "data": {
      "text/plain": [
       "array([[0., 0., 0., 0., 0., 0., 0., 0., 0., 1.]], dtype=float32)"
      ]
     },
     "execution_count": 52,
     "metadata": {},
     "output_type": "execute_result"
    }
   ],
   "source": [
    "model.predict(image)"
   ]
  },
  {
   "cell_type": "code",
   "execution_count": null,
   "id": "14af2f8a-1972-421a-9a59-66da0beae12a",
   "metadata": {},
   "outputs": [],
   "source": [
    "model_version = '0002'"
   ]
  },
  {
   "cell_type": "code",
   "execution_count": null,
   "id": "0f2c93d6-bd3c-4e4f-b917-762ba057d81f",
   "metadata": {},
   "outputs": [],
   "source": [
    "model_name = 'digits'"
   ]
  },
  {
   "cell_type": "code",
   "execution_count": null,
   "id": "96ae2153-56f7-4996-9411-6ec0bbd3011c",
   "metadata": {},
   "outputs": [],
   "source": [
    "model_path = os.path.join(model_name, model_version)"
   ]
  },
  {
   "cell_type": "code",
   "execution_count": null,
   "id": "f2eddf7d-4ed8-40a4-a0bf-a3131c1134eb",
   "metadata": {
    "tags": []
   },
   "outputs": [],
   "source": [
    "model.save(model_path)"
   ]
  },
  {
   "cell_type": "code",
   "execution_count": null,
   "id": "5a5020bb-2a3b-446d-b237-32646ff26816",
   "metadata": {},
   "outputs": [],
   "source": [
    "cnn = keras.models.load_model(model_path)"
   ]
  },
  {
   "cell_type": "code",
   "execution_count": null,
   "id": "e5188de8-62a4-47da-abe6-79bee0724f86",
   "metadata": {},
   "outputs": [],
   "source": [
    "cnn.predict(test_images[0].reshape((1, 28, 28))).argmax()"
   ]
  },
  {
   "cell_type": "code",
   "execution_count": null,
   "id": "5ba4447d-29ae-4dc1-8d49-55e47eddaa39",
   "metadata": {},
   "outputs": [],
   "source": []
  }
 ],
 "metadata": {
  "kernelspec": {
   "display_name": "Python 3 (ipykernel)",
   "language": "python",
   "name": "python3"
  },
  "language_info": {
   "codemirror_mode": {
    "name": "ipython",
    "version": 3
   },
   "file_extension": ".py",
   "mimetype": "text/x-python",
   "name": "python",
   "nbconvert_exporter": "python",
   "pygments_lexer": "ipython3",
   "version": "3.8.12"
  }
 },
 "nbformat": 4,
 "nbformat_minor": 5
}
